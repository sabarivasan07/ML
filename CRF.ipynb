{
 "cells": [
  {
   "cell_type": "markdown",
   "metadata": {
    "id": "tLQ5JvtEMAKz"
   },
   "source": [
    "## Formulating Conditional Random Fields (CRF)"
   ]
  },
  {
   "cell_type": "code",
   "execution_count": 1,
   "metadata": {
    "colab": {
     "base_uri": "https://localhost:8080/"
    },
    "id": "wYlbuPW-Yxev",
    "outputId": "57ce9cc1-2f06-4f05-94ac-0e98ff8d7c86"
   },
   "outputs": [
    {
     "name": "stdout",
     "output_type": "stream",
     "text": [
      "Collecting sklearn-crfsuite\n",
      "  Obtaining dependency information for sklearn-crfsuite from https://files.pythonhosted.org/packages/25/74/5b7befa513482e6dee1f3dd68171a6c9dfc14c0eaa00f885ffeba54fe9b0/sklearn_crfsuite-0.3.6-py2.py3-none-any.whl.metadata\n",
      "  Downloading sklearn_crfsuite-0.3.6-py2.py3-none-any.whl.metadata (3.8 kB)\n",
      "Collecting python-crfsuite>=0.8.3 (from sklearn-crfsuite)\n",
      "  Obtaining dependency information for python-crfsuite>=0.8.3 from https://files.pythonhosted.org/packages/78/cd/8fe34205c01101b0e8dc1a18c92b3b932ab7b246daf0399072ddb551e109/python_crfsuite-0.9.10-cp311-cp311-win_amd64.whl.metadata\n",
      "  Downloading python_crfsuite-0.9.10-cp311-cp311-win_amd64.whl.metadata (4.3 kB)\n",
      "Requirement already satisfied: six in d:\\users\\sfl22\\appdata\\local\\anaconda3\\lib\\site-packages (from sklearn-crfsuite) (1.16.0)\n",
      "Requirement already satisfied: tabulate in d:\\users\\sfl22\\appdata\\local\\anaconda3\\lib\\site-packages (from sklearn-crfsuite) (0.8.10)\n",
      "Requirement already satisfied: tqdm>=2.0 in d:\\users\\sfl22\\appdata\\local\\anaconda3\\lib\\site-packages (from sklearn-crfsuite) (4.65.0)\n",
      "Requirement already satisfied: colorama in d:\\users\\sfl22\\appdata\\local\\anaconda3\\lib\\site-packages (from tqdm>=2.0->sklearn-crfsuite) (0.4.6)\n",
      "Downloading sklearn_crfsuite-0.3.6-py2.py3-none-any.whl (12 kB)\n",
      "Downloading python_crfsuite-0.9.10-cp311-cp311-win_amd64.whl (155 kB)\n",
      "   ---------------------------------------- 0.0/155.8 kB ? eta -:--:--\n",
      "   ------- ------------------------------- 30.7/155.8 kB 660.6 kB/s eta 0:00:01\n",
      "   ---------------------------------------  153.6/155.8 kB 1.5 MB/s eta 0:00:01\n",
      "   ---------------------------------------- 155.8/155.8 kB 1.0 MB/s eta 0:00:00\n",
      "Installing collected packages: python-crfsuite, sklearn-crfsuite\n",
      "Successfully installed python-crfsuite-0.9.10 sklearn-crfsuite-0.3.6\n"
     ]
    }
   ],
   "source": [
    "!pip install sklearn-crfsuite"
   ]
  },
  {
   "cell_type": "code",
   "execution_count": 3,
   "metadata": {
    "id": "bxt2Pn7qZKfd"
   },
   "outputs": [],
   "source": [
    "import nltk\n",
    "import sklearn_crfsuite\n",
    "from sklearn_crfsuite import metrics"
   ]
  },
  {
   "cell_type": "code",
   "execution_count": 4,
   "metadata": {
    "colab": {
     "base_uri": "https://localhost:8080/"
    },
    "id": "aiJfBW0OZSyV",
    "outputId": "02052e99-745b-45c4-f753-d574bf0ad9df"
   },
   "outputs": [
    {
     "name": "stderr",
     "output_type": "stream",
     "text": [
      "[nltk_data] Downloading package treebank to\n",
      "[nltk_data]     D:\\Users\\sfl22\\AppData\\Roaming\\nltk_data...\n",
      "[nltk_data]   Unzipping corpora\\treebank.zip.\n"
     ]
    },
    {
     "name": "stdout",
     "output_type": "stream",
     "text": [
      "[[('Pierre', 'NNP'), ('Vinken', 'NNP'), (',', ','), ('61', 'CD'), ('years', 'NNS'), ('old', 'JJ'), (',', ','), ('will', 'MD'), ('join', 'VB'), ('the', 'DT'), ('board', 'NN'), ('as', 'IN'), ('a', 'DT'), ('nonexecutive', 'JJ'), ('director', 'NN'), ('Nov.', 'NNP'), ('29', 'CD'), ('.', '.')], [('Mr.', 'NNP'), ('Vinken', 'NNP'), ('is', 'VBZ'), ('chairman', 'NN'), ('of', 'IN'), ('Elsevier', 'NNP'), ('N.V.', 'NNP'), (',', ','), ('the', 'DT'), ('Dutch', 'NNP'), ('publishing', 'VBG'), ('group', 'NN'), ('.', '.')], ...]\n"
     ]
    }
   ],
   "source": [
    "# Load the Penn Treebank corpus\n",
    "nltk.download('treebank')\n",
    "corpus = nltk.corpus.treebank.tagged_sents()\n",
    "print(corpus)\n"
   ]
  },
  {
   "cell_type": "code",
   "execution_count": 5,
   "metadata": {
    "id": "vfKIIPAUZgN9"
   },
   "outputs": [],
   "source": [
    "# Define a function to extract features for each word in a sentence\n",
    "def word_features(sentence, i):\n",
    "\tword = sentence[i][0]\n",
    "\tfeatures = {\n",
    "\t\t'word': word,\n",
    "\t\t'is_first': i == 0, #if the word is a first word\n",
    "\t\t'is_last': i == len(sentence) - 1, #if the word is a last word\n",
    "\t\t'is_capitalized': word[0].upper() == word[0],\n",
    "\t\t'is_all_caps': word.upper() == word,\t #word is in uppercase\n",
    "\t\t'is_all_lower': word.lower() == word,\t #word is in lowercase\n",
    "\t\t#prefix of the word\n",
    "\t\t'prefix-1': word[0],\n",
    "\t\t'prefix-2': word[:2],\n",
    "\t\t'prefix-3': word[:3],\n",
    "\t\t#suffix of the word\n",
    "\t\t'suffix-1': word[-1],\n",
    "\t\t'suffix-2': word[-2:],\n",
    "\t\t'suffix-3': word[-3:],\n",
    "\t\t#extracting previous word\n",
    "\t\t'prev_word': '' if i == 0 else sentence[i-1][0],\n",
    "\t\t#extracting next word\n",
    "\t\t'next_word': '' if i == len(sentence)-1 else sentence[i+1][0],\n",
    "\t\t'has_hyphen': '-' in word, #if word has hypen\n",
    "\t\t'is_numeric': word.isdigit(), #if word is in numeric\n",
    "\t\t'capitals_inside': word[1:].lower() != word[1:]\n",
    "\t}\n",
    "\treturn features\n"
   ]
  },
  {
   "cell_type": "code",
   "execution_count": 6,
   "metadata": {
    "id": "Bo59aCfGZg3l"
   },
   "outputs": [],
   "source": [
    "# Extract features for each sentence in the corpus\n",
    "X = []\n",
    "y = []\n",
    "for sentence in corpus:\n",
    "\tX_sentence = []\n",
    "\ty_sentence = []\n",
    "\tfor i in range(len(sentence)):\n",
    "\t\tX_sentence.append(word_features(sentence, i))\n",
    "\t\ty_sentence.append(sentence[i][1])\n",
    "\tX.append(X_sentence)\n",
    "\ty.append(y_sentence)\n",
    "\n",
    "\n",
    "# Split the data into training and testing sets\n",
    "split = int(0.8 * len(X))\n",
    "X_train = X[:split]\n",
    "y_train = y[:split]\n",
    "X_test = X[split:]\n",
    "y_test = y[split:]\n"
   ]
  },
  {
   "cell_type": "code",
   "execution_count": 7,
   "metadata": {
    "id": "X0E-JtJWZn7j"
   },
   "outputs": [],
   "source": [
    "import pycrfsuite\n",
    "\n",
    "# Train a CRF model suing pysrfsuite\n",
    "trainer = pycrfsuite.Trainer(verbose=False)\n",
    "for x, y in zip(X_train, y_train):\n",
    "\ttrainer.append(x, y)\n",
    "trainer.set_params({\n",
    "\t'c1': 1.0,\n",
    "\t'c2': 1e-3,\n",
    "\t'max_iterations': 50,\n",
    "\t'feature.possible_transitions': True\n",
    "})\n",
    "trainer.train('pos.crfsuite')\n",
    "\n",
    "\n"
   ]
  },
  {
   "cell_type": "code",
   "execution_count": 8,
   "metadata": {
    "colab": {
     "base_uri": "https://localhost:8080/"
    },
    "id": "8qVK7YzwZ8ZN",
    "outputId": "22355dc8-f172-4241-b42b-008d78ecdb4f"
   },
   "outputs": [
    {
     "name": "stdout",
     "output_type": "stream",
     "text": [
      "[('The', 'MD'), ('presentation', 'VB'), ('highlighted', 'JJ'), ('the', 'NN'), ('key', 'VBP'), ('achievements', 'DT'), ('of', 'NN'), ('the', 'NN'), ('project’s', 'NN'), ('development.', 'NN')]\n"
     ]
    }
   ],
   "source": [
    "# Tag a new sentence\n",
    "tagger = pycrfsuite.Tagger()\n",
    "tagger.open('pos.crfsuite')\n",
    "sentence = 'The presentation highlighted the key achievements of the project’s development.'.split()\n",
    "features = [word_features(sentence, i) for i in range(len(sentence))]\n",
    "tags = tagger.tag(features)\n",
    "print(list(zip(sentence, tags)))"
   ]
  }
 ],
 "metadata": {
  "accelerator": "GPU",
  "colab": {
   "gpuType": "T4",
   "provenance": []
  },
  "kernelspec": {
   "display_name": "Python 3 (ipykernel)",
   "language": "python",
   "name": "python3"
  },
  "language_info": {
   "codemirror_mode": {
    "name": "ipython",
    "version": 3
   },
   "file_extension": ".py",
   "mimetype": "text/x-python",
   "name": "python",
   "nbconvert_exporter": "python",
   "pygments_lexer": "ipython3",
   "version": "3.11.5"
  }
 },
 "nbformat": 4,
 "nbformat_minor": 1
}
