{
 "cells": [
  {
   "cell_type": "code",
   "execution_count": 4,
   "metadata": {
    "colab": {
     "base_uri": "https://localhost:8080/"
    },
    "id": "ha4r3ec4ORet",
    "outputId": "4b4eac2d-461a-4121-b9e6-c0ccd0e111cb"
   },
   "outputs": [
    {
     "name": "stdout",
     "output_type": "stream",
     "text": [
      "Found 2746 images belonging to 5 classes.\n",
      "Found 0 images belonging to 0 classes.\n",
      "Epoch 1/20\n",
      "85/85 [==============================] - 25s 233ms/step - loss: 1.3135 - accuracy: 0.4171\n",
      "Epoch 2/20\n",
      "85/85 [==============================] - 18s 216ms/step - loss: 1.0591 - accuracy: 0.5704\n",
      "Epoch 3/20\n",
      "85/85 [==============================] - 20s 237ms/step - loss: 0.9328 - accuracy: 0.6264\n",
      "Epoch 4/20\n",
      "85/85 [==============================] - 19s 219ms/step - loss: 0.8523 - accuracy: 0.6595\n",
      "Epoch 5/20\n",
      "85/85 [==============================] - 18s 216ms/step - loss: 0.8016 - accuracy: 0.6728\n",
      "Epoch 6/20\n",
      "85/85 [==============================] - 20s 234ms/step - loss: 0.7230 - accuracy: 0.7229\n",
      "Epoch 7/20\n",
      "85/85 [==============================] - 18s 216ms/step - loss: 0.6783 - accuracy: 0.7336\n",
      "Epoch 8/20\n",
      "85/85 [==============================] - 20s 234ms/step - loss: 0.6425 - accuracy: 0.7469\n",
      "Epoch 9/20\n",
      "85/85 [==============================] - 19s 218ms/step - loss: 0.5822 - accuracy: 0.7716\n",
      "Epoch 10/20\n",
      "85/85 [==============================] - 20s 233ms/step - loss: 0.5641 - accuracy: 0.7845\n",
      "Epoch 11/20\n",
      "85/85 [==============================] - 18s 216ms/step - loss: 0.5193 - accuracy: 0.7944\n",
      "Epoch 12/20\n",
      "85/85 [==============================] - 20s 230ms/step - loss: 0.4839 - accuracy: 0.8110\n",
      "Epoch 13/20\n",
      "85/85 [==============================] - 20s 234ms/step - loss: 0.4589 - accuracy: 0.8217\n",
      "Epoch 14/20\n",
      "85/85 [==============================] - 20s 234ms/step - loss: 0.3716 - accuracy: 0.8607\n",
      "Epoch 15/20\n",
      "85/85 [==============================] - 19s 218ms/step - loss: 0.3727 - accuracy: 0.8651\n",
      "Epoch 16/20\n",
      "85/85 [==============================] - 20s 234ms/step - loss: 0.3087 - accuracy: 0.8861\n",
      "Epoch 17/20\n",
      "85/85 [==============================] - 19s 219ms/step - loss: 0.3212 - accuracy: 0.8828\n",
      "Epoch 18/20\n",
      "85/85 [==============================] - 20s 235ms/step - loss: 0.2557 - accuracy: 0.9112\n",
      "Epoch 19/20\n",
      "85/85 [==============================] - 19s 220ms/step - loss: 0.2270 - accuracy: 0.9223\n",
      "Epoch 20/20\n",
      "85/85 [==============================] - 19s 227ms/step - loss: 0.1934 - accuracy: 0.9296\n"
     ]
    },
    {
     "name": "stderr",
     "output_type": "stream",
     "text": [
      "/usr/local/lib/python3.10/dist-packages/keras/src/engine/training.py:3103: UserWarning: You are saving your model as an HDF5 file via `model.save()`. This file format is considered legacy. We recommend using instead the native Keras format, e.g. `model.save('my_model.keras')`.\n",
      "  saving_api.save_model(\n"
     ]
    }
   ],
   "source": [
    "import numpy as np\n",
    "import tensorflow as tf\n",
    "from tensorflow.keras.preprocessing.image import ImageDataGenerator\n",
    "from tensorflow.keras.models import Sequential\n",
    "from tensorflow.keras.layers import Conv2D, MaxPooling2D, Flatten, Dense\n",
    "\n",
    "# Define paths\n",
    "train_data_dir = 'flowers/train'\n",
    "test_data_dir = 'flowers/test'\n",
    "\n",
    "# Define image parameters\n",
    "img_width, img_height = 150, 150\n",
    "input_shape = (img_width, img_height, 3)\n",
    "epochs = 20\n",
    "batch_size = 32\n",
    "\n",
    "# Data Augmentation for training data\n",
    "train_datagen = ImageDataGenerator(rescale=1. / 255,\n",
    "                                   shear_range=0.2,\n",
    "                                   zoom_range=0.2,\n",
    "                                   horizontal_flip=True)\n",
    "\n",
    "# Only rescaling for testing data\n",
    "test_datagen = ImageDataGenerator(rescale=1. / 255)\n",
    "\n",
    "# Generating data from directories\n",
    "train_generator = train_datagen.flow_from_directory(train_data_dir,\n",
    "                                                    target_size=(img_width, img_height),\n",
    "                                                    batch_size=batch_size,\n",
    "                                                    class_mode='categorical')\n",
    "\n",
    "test_generator = test_datagen.flow_from_directory(test_data_dir,\n",
    "                                                  target_size=(img_width, img_height),\n",
    "                                                  batch_size=batch_size,\n",
    "                                                  class_mode='categorical')\n",
    "\n",
    "# Building the CNN model\n",
    "model = Sequential()\n",
    "\n",
    "model.add(Conv2D(32, (3, 3), input_shape=input_shape, activation='relu'))\n",
    "model.add(MaxPooling2D(pool_size=(2, 2)))\n",
    "\n",
    "model.add(Conv2D(64, (3, 3), activation='relu'))\n",
    "model.add(MaxPooling2D(pool_size=(2, 2)))\n",
    "\n",
    "model.add(Conv2D(128, (3, 3), activation='relu'))\n",
    "model.add(MaxPooling2D(pool_size=(2, 2)))\n",
    "\n",
    "model.add(Conv2D(128, (3, 3), activation='relu'))\n",
    "model.add(MaxPooling2D(pool_size=(2, 2)))\n",
    "\n",
    "model.add(Flatten())\n",
    "\n",
    "model.add(Dense(512, activation='relu'))\n",
    "model.add(Dense(5, activation='softmax'))  # 5 classes: daisy, dandelion, rose, sunflower, tulip\n",
    "\n",
    "model.compile(loss='categorical_crossentropy',\n",
    "              optimizer='adam',\n",
    "              metrics=['accuracy'])\n",
    "\n",
    "# Training the model\n",
    "model.fit(train_generator,\n",
    "          steps_per_epoch=train_generator.samples // batch_size,\n",
    "          epochs=epochs,\n",
    "          validation_data=test_generator,\n",
    "          validation_steps=test_generator.samples // batch_size)\n",
    "\n",
    "# Saving the model\n",
    "model.save(\"flower_classification_model.h5\")"
   ]
  },
  {
   "cell_type": "code",
   "execution_count": 6,
   "metadata": {
    "colab": {
     "base_uri": "https://localhost:8080/"
    },
    "id": "udQJBmJdOWm2",
    "outputId": "7b167c19-c0ea-4597-ca4f-610a66248832"
   },
   "outputs": [
    {
     "name": "stderr",
     "output_type": "stream",
     "text": [
      "WARNING:absl:Compiled the loaded model, but the compiled metrics have yet to be built. `model.compile_metrics` will be empty until you train or evaluate the model.\n",
      "WARNING:absl:Error in loading the saved optimizer state. As a result, your model is starting with a freshly initialized optimizer.\n"
     ]
    },
    {
     "name": "stdout",
     "output_type": "stream",
     "text": [
      "WARNING:tensorflow:6 out of the last 6 calls to <function TensorFlowTrainer.make_predict_function.<locals>.one_step_on_data_distributed at 0x0000016FF0DCCCC0> triggered tf.function retracing. Tracing is expensive and the excessive number of tracings could be due to (1) creating @tf.function repeatedly in a loop, (2) passing tensors with different shapes, (3) passing Python objects instead of tensors. For (1), please define your @tf.function outside of the loop. For (2), @tf.function has reduce_retracing=True option that can avoid unnecessary retracing. For (3), please refer to https://www.tensorflow.org/guide/function#controlling_retracing and https://www.tensorflow.org/api_docs/python/tf/function for  more details.\n"
     ]
    },
    {
     "name": "stderr",
     "output_type": "stream",
     "text": [
      "WARNING:tensorflow:6 out of the last 6 calls to <function TensorFlowTrainer.make_predict_function.<locals>.one_step_on_data_distributed at 0x0000016FF0DCCCC0> triggered tf.function retracing. Tracing is expensive and the excessive number of tracings could be due to (1) creating @tf.function repeatedly in a loop, (2) passing tensors with different shapes, (3) passing Python objects instead of tensors. For (1), please define your @tf.function outside of the loop. For (2), @tf.function has reduce_retracing=True option that can avoid unnecessary retracing. For (3), please refer to https://www.tensorflow.org/guide/function#controlling_retracing and https://www.tensorflow.org/api_docs/python/tf/function for  more details.\n"
     ]
    },
    {
     "name": "stdout",
     "output_type": "stream",
     "text": [
      "\u001b[1m1/1\u001b[0m \u001b[32m━━━━━━━━━━━━━━━━━━━━\u001b[0m\u001b[37m\u001b[0m \u001b[1m0s\u001b[0m 87ms/step\n",
      "Predicted flower: daisy\n"
     ]
    }
   ],
   "source": [
    "import numpy as np\n",
    "from tensorflow.keras.models import load_model\n",
    "from tensorflow.keras.preprocessing.image import img_to_array, load_img\n",
    "\n",
    "# Define image path\n",
    "img_path = 'flowers/test/Image_67.jpg'  # Replace with your image path\n",
    "\n",
    "# Load the saved model\n",
    "model = load_model('flower_classification_model.h5')\n",
    "\n",
    "# Preprocess the image\n",
    "img = load_img(img_path, target_size=(150, 150))  # Adjust if your image size differs\n",
    "img = img_to_array(img)\n",
    "img /= 255.0  # Rescale for model input\n",
    "img = np.expand_dims(img, axis=0)  # Add a dimension for batch processing\n",
    "\n",
    "# Make prediction\n",
    "predictions = model.predict(img)\n",
    "\n",
    "# Get the flower class with the highest probability\n",
    "predicted_class_index = np.argmax(predictions[0])\n",
    "\n",
    "# Load flower class labels (assuming you have a list named 'class_names')\n",
    "flower_names = ['daisy', 'dandelion', 'rose', 'sunflower', 'tulip']  # Adjust class names\n",
    "\n",
    "# Print the predicted flower class\n",
    "print(f\"Predicted flower: {flower_names[predicted_class_index]}\")\n"
   ]
  },
  {
   "cell_type": "code",
   "execution_count": null,
   "metadata": {
    "id": "5i0Dji_4RGyl"
   },
   "outputs": [],
   "source": []
  },
  {
   "cell_type": "code",
   "execution_count": null,
   "metadata": {},
   "outputs": [],
   "source": []
  }
 ],
 "metadata": {
  "accelerator": "GPU",
  "colab": {
   "gpuType": "T4",
   "provenance": []
  },
  "kernelspec": {
   "display_name": "Python 3 (ipykernel)",
   "language": "python",
   "name": "python3"
  },
  "language_info": {
   "codemirror_mode": {
    "name": "ipython",
    "version": 3
   },
   "file_extension": ".py",
   "mimetype": "text/x-python",
   "name": "python",
   "nbconvert_exporter": "python",
   "pygments_lexer": "ipython3",
   "version": "3.11.5"
  }
 },
 "nbformat": 4,
 "nbformat_minor": 4
}
