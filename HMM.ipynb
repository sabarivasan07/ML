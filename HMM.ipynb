{
 "cells": [
  {
   "cell_type": "code",
   "execution_count": 2,
   "id": "80c034fb-ec28-4ba2-84f2-24d99a930e0d",
   "metadata": {},
   "outputs": [
    {
     "name": "stdout",
     "output_type": "stream",
     "text": [
      "Collecting hmmlearn\n",
      "  Downloading hmmlearn-0.3.2-cp311-cp311-win_amd64.whl.metadata (3.0 kB)\n",
      "Requirement already satisfied: numpy>=1.10 in d:\\users\\sfl22\\appdata\\local\\anaconda3\\lib\\site-packages (from hmmlearn) (1.24.3)\n",
      "Requirement already satisfied: scikit-learn!=0.22.0,>=0.16 in d:\\users\\sfl22\\appdata\\local\\anaconda3\\lib\\site-packages (from hmmlearn) (1.3.0)\n",
      "Requirement already satisfied: scipy>=0.19 in d:\\users\\sfl22\\appdata\\local\\anaconda3\\lib\\site-packages (from hmmlearn) (1.11.1)\n",
      "Requirement already satisfied: joblib>=1.1.1 in d:\\users\\sfl22\\appdata\\local\\anaconda3\\lib\\site-packages (from scikit-learn!=0.22.0,>=0.16->hmmlearn) (1.2.0)\n",
      "Requirement already satisfied: threadpoolctl>=2.0.0 in d:\\users\\sfl22\\appdata\\local\\anaconda3\\lib\\site-packages (from scikit-learn!=0.22.0,>=0.16->hmmlearn) (2.2.0)\n",
      "Downloading hmmlearn-0.3.2-cp311-cp311-win_amd64.whl (125 kB)\n",
      "   ---------------------------------------- 0.0/125.4 kB ? eta -:--:--\n",
      "   --- ------------------------------------ 10.2/125.4 kB ? eta -:--:--\n",
      "   --------- ----------------------------- 30.7/125.4 kB 660.6 kB/s eta 0:00:01\n",
      "   ------------------- ------------------- 61.4/125.4 kB 550.5 kB/s eta 0:00:01\n",
      "   -------------------------------------  122.9/125.4 kB 804.6 kB/s eta 0:00:01\n",
      "   -------------------------------------- 125.4/125.4 kB 615.7 kB/s eta 0:00:00\n",
      "Installing collected packages: hmmlearn\n",
      "Successfully installed hmmlearn-0.3.2\n",
      "Note: you may need to restart the kernel to use updated packages.\n"
     ]
    }
   ],
   "source": [
    "pip install hmmlearn"
   ]
  },
  {
   "cell_type": "code",
   "execution_count": 3,
   "id": "4114766d-a796-4815-b4f8-6027338f02f5",
   "metadata": {},
   "outputs": [],
   "source": [
    "# import the necessary libraries\n",
    "import numpy as np\n",
    "import matplotlib.pyplot as plt\n",
    "import seaborn as sns\n",
    "from hmmlearn import hmm\n"
   ]
  },
  {
   "cell_type": "code",
   "execution_count": 4,
   "id": "ece5b9e4-5ba5-4dfa-bfe9-4596023a042b",
   "metadata": {},
   "outputs": [
    {
     "name": "stdout",
     "output_type": "stream",
     "text": [
      "Number of hidden states : 2\n",
      "Number of observations : 2\n"
     ]
    }
   ],
   "source": [
    "# Define the state space\n",
    "states = [\"Sunny\", \"Rainy\"]\n",
    "n_states = len(states)\n",
    "print('Number of hidden states :',n_states)\n",
    "# Define the observation space\n",
    "observations = [\"Dry\", \"Wet\"]\n",
    "n_observations = len(observations)\n",
    "print('Number of observations :',n_observations)\n"
   ]
  },
  {
   "cell_type": "code",
   "execution_count": 5,
   "id": "620727b6-4a42-4b1a-b37a-03c4b51412e0",
   "metadata": {},
   "outputs": [
    {
     "name": "stdout",
     "output_type": "stream",
     "text": [
      "State probability:  [0.6 0.4]\n",
      "\n",
      "Transition probability:\n",
      " [[0.7 0.3]\n",
      " [0.3 0.7]]\n",
      "\n",
      "Emission probability:\n",
      " [[0.9 0.1]\n",
      " [0.2 0.8]]\n"
     ]
    }
   ],
   "source": [
    "# Define the initial state distribution\n",
    "state_probability = np.array([0.6, 0.4])\n",
    "print(\"State probability: \", state_probability)\n",
    "\n",
    "# Define the state transition probabilities\n",
    "transition_probability = np.array([[0.7, 0.3],\n",
    "\t\t\t\t\t\t\t\t[0.3, 0.7]])\n",
    "print(\"\\nTransition probability:\\n\", transition_probability)\n",
    "# Define the observation likelihoods\n",
    "emission_probability= np.array([[0.9, 0.1],\n",
    "\t\t\t\t\t\t\t\t[0.2, 0.8]])\n",
    "print(\"\\nEmission probability:\\n\", emission_probability)\n"
   ]
  },
  {
   "cell_type": "code",
   "execution_count": 6,
   "id": "6251c82b-8c25-4b3b-9db1-b7b074444658",
   "metadata": {},
   "outputs": [],
   "source": [
    "model = hmm.CategoricalHMM(n_components=n_states)\n",
    "model.startprob_ = state_probability\n",
    "model.transmat_ = transition_probability\n",
    "model.emissionprob_ = emission_probability\n"
   ]
  },
  {
   "cell_type": "code",
   "execution_count": 7,
   "id": "e5b9c1e1-8202-40fe-bec6-29656ba444ea",
   "metadata": {},
   "outputs": [
    {
     "data": {
      "text/plain": [
       "array([[0],\n",
       "       [1],\n",
       "       [0],\n",
       "       [1],\n",
       "       [0],\n",
       "       [0]])"
      ]
     },
     "execution_count": 7,
     "metadata": {},
     "output_type": "execute_result"
    }
   ],
   "source": [
    "# Define the sequence of observations\n",
    "observations_sequence = np.array([0, 1, 0, 1, 0, 0]).reshape(-1, 1)\n",
    "observations_sequence\n"
   ]
  },
  {
   "cell_type": "code",
   "execution_count": 8,
   "id": "ccf345ae-a9d3-4178-b099-aa9e11994db7",
   "metadata": {},
   "outputs": [
    {
     "name": "stdout",
     "output_type": "stream",
     "text": [
      "Most likely hidden states: [0 1 1 1 0 0]\n"
     ]
    }
   ],
   "source": [
    "# Predict the most likely sequence of hidden states\n",
    "hidden_states = model.predict(observations_sequence)\n",
    "print(\"Most likely hidden states:\", hidden_states)\n"
   ]
  },
  {
   "cell_type": "code",
   "execution_count": 9,
   "id": "a7c2baf1-236e-4e6e-b3eb-e9e2b3aca7d3",
   "metadata": {},
   "outputs": [
    {
     "name": "stdout",
     "output_type": "stream",
     "text": [
      "Log Probability : -6.360602626270058\n",
      "Most likely hidden states: [0 1 1 1 0 0]\n"
     ]
    }
   ],
   "source": [
    "log_probability, hidden_states = model.decode(observations_sequence,\n",
    "\t\t\t\t\t\t\t\t\t\t\tlengths = len(observations_sequence),\n",
    "\t\t\t\t\t\t\t\t\t\t\talgorithm ='viterbi' )\n",
    "\n",
    "print('Log Probability :',log_probability)\n",
    "print(\"Most likely hidden states:\", hidden_states)\n"
   ]
  },
  {
   "cell_type": "code",
   "execution_count": 10,
   "id": "4ba89fe1-d1cb-451a-b29e-8d22baf449af",
   "metadata": {},
   "outputs": [
    {
     "data": {
      "image/png": "[encoded data removed]",
      "text/plain": [
       "<Figure size 640x480 with 1 Axes>"
      ]
     },
     "metadata": {},
     "output_type": "display_data"
    }
   ],
   "source": [
    "# Plot the results\n",
    "sns.set_style(\"whitegrid\")\n",
    "plt.plot(hidden_states, '-o', label=\"Hidden State\")\n",
    "plt.xlabel('Time step')\n",
    "plt.ylabel('Most Likely Hidden State')\n",
    "plt.title(\"Sunny or Rainy\")\n",
    "plt.legend()\n",
    "plt.show()\n"
   ]
  },
  {
   "cell_type": "code",
   "execution_count": null,
   "id": "51393933-e9ff-4937-a232-a3a069ed3d4d",
   "metadata": {},
   "outputs": [],
   "source": []
  }
 ],
 "metadata": {
  "kernelspec": {
   "display_name": "Python 3 (ipykernel)",
   "language": "python",
   "name": "python3"
  },
  "language_info": {
   "codemirror_mode": {
    "name": "ipython",
    "version": 3
   },
   "file_extension": ".py",
   "mimetype": "text/x-python",
   "name": "python",
   "nbconvert_exporter": "python",
   "pygments_lexer": "ipython3",
   "version": "3.11.5"
  }
 },
 "nbformat": 4,
 "nbformat_minor": 5
}
